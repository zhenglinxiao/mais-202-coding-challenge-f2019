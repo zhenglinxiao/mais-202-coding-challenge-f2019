{
 "cells": [
  {
   "cell_type": "code",
   "execution_count": 65,
   "metadata": {},
   "outputs": [],
   "source": [
    "## By Lin Xiao Zheng\n",
    "## McGill ID 260911511\n",
    "\n",
    "## INSTRUCTIONS\n",
    "## 1. Load & Parse data from files\n",
    "## 2. Determine average loan amount by ownership status (RENT/MORTGAGE/OWN)\n",
    "## 3. Plot results in a graph\n",
    "\n",
    "import csv\n",
    "import numpy as np\n",
    "import matplotlib.pyplot as plt"
   ]
  },
  {
   "cell_type": "code",
   "execution_count": 66,
   "metadata": {},
   "outputs": [],
   "source": [
    "# Parse home_ownership_data.csv and store IDs according to ownership type\n",
    "mortgage_IDs = []\n",
    "own_IDs = []\n",
    "rent_IDs = []\n",
    "\n",
    "with open('home_ownership_data.csv','r') as owner_data:  ## 'r' means READ mode\n",
    "    reader = csv.reader(owner_data, delimiter = ',')\n",
    "    line = 0\n",
    "    for row in reader:\n",
    "        if line == 0:\n",
    "            # Title line: do nothing\n",
    "            line += 1\n",
    "        else:\n",
    "            if(row[1] == 'MORTGAGE'):\n",
    "                mortgage_IDs.append(row[0])\n",
    "            elif(row[1] == 'OWN'):\n",
    "                own_IDs.append(row[0])\n",
    "            elif(row[1] == 'RENT'):\n",
    "                rent_IDs.append(row[0])"
   ]
  },
  {
   "cell_type": "code",
   "execution_count": 67,
   "metadata": {},
   "outputs": [],
   "source": [
    "# Parse loan_data.csv and add amounts according to ownership type\n",
    "mortgage_sum = 0\n",
    "own_sum = 0\n",
    "rent_sum = 0\n",
    "\n",
    "with open('loan_data.csv', 'r') as loan_data:\n",
    "    reader = csv.reader(loan_data, delimiter = ',')\n",
    "    line = 0\n",
    "    for row in reader:\n",
    "        if line == 0:\n",
    "            line += 1\n",
    "        else:\n",
    "            current_ID = row[0]\n",
    "            if current_ID in mortgage_IDs:\n",
    "                mortgage_sum += int(row[1])\n",
    "            elif current_ID in own_IDs:\n",
    "                own_sum += int(row[1])\n",
    "            elif current_ID in rent_IDs:\n",
    "                rent_sum += int(row[1])\n",
    "                \n",
    "mortgage_avg = mortgage_sum/len(mortgage_IDs)\n",
    "own_avg = own_sum/len(own_IDs)\n",
    "rent_avg = rent_sum/len(rent_IDs)"
   ]
  },
  {
   "cell_type": "code",
   "execution_count": 68,
   "metadata": {},
   "outputs": [
    {
     "name": "stdout",
     "output_type": "stream",
     "text": [
      "HOME OWNERSHIP\t|  AVERAGE LOAN AMOUNT ($)\n",
      "Mortgage\t|  13502.830188679245\n",
      "Own\t\t|  9603.57142857143\n",
      "Rent\t\t|  11067.481203007519\n"
     ]
    },
    {
     "data": {
      "image/png": "[encoded data removed]",
      "text/plain": [
       "<Figure size 432x288 with 1 Axes>"
      ]
     },
     "metadata": {
      "needs_background": "light"
     },
     "output_type": "display_data"
    }
   ],
   "source": [
    "# Plot and display the results\n",
    "labels = ['MORTGAGE', 'OWN', 'RENT']\n",
    "loan_avg = [mortgage_avg, own_avg, rent_avg]\n",
    "\n",
    "def plot_results():\n",
    "    index = np.arange(len(labels))\n",
    "    plt.bar(index, loan_avg)\n",
    "    plt.xlabel('Home ownership')\n",
    "    plt.ylabel('Average loan amount ($)')\n",
    "    plt.xticks(index, labels)\n",
    "    plt.title('Average loan amounts per home ownership')\n",
    "    plt.show()\n",
    "\n",
    "print('HOME OWNERSHIP\\t|  AVERAGE LOAN AMOUNT ($)')\n",
    "print('Mortgage\\t|  ' + str(mortgage_avg))\n",
    "print('Own\\t\\t|  ' + str(own_avg))\n",
    "print('Rent\\t\\t|  ' + str(rent_avg))\n",
    "plot_results()"
   ]
  }
 ],
 "metadata": {
  "kernelspec": {
   "display_name": "Python 3",
   "language": "python",
   "name": "python3"
  },
  "language_info": {
   "codemirror_mode": {
    "name": "ipython",
    "version": 3
   },
   "file_extension": ".py",
   "mimetype": "text/x-python",
   "name": "python",
   "nbconvert_exporter": "python",
   "pygments_lexer": "ipython3",
   "version": "3.7.2"
  }
 },
 "nbformat": 4,
 "nbformat_minor": 2
}
